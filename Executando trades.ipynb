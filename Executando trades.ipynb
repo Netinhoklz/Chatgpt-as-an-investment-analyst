{
 "cells": [
  {
   "cell_type": "markdown",
   "id": "57a3b8f0-4121-4630-a1b4-16fe01fcbb65",
   "metadata": {},
   "source": [
    "# Imports"
   ]
  },
  {
   "cell_type": "code",
   "execution_count": 7,
   "id": "d9f65bd5-f8cb-4aa3-b5c1-de0eb5257c6f",
   "metadata": {},
   "outputs": [],
   "source": [
    "import MetaTrader5 as mt5\n",
    "import pandas as pd\n",
    "import numpy as np\n",
    "import matplotlib.pyplot as plt\n",
    "import datetime\n",
    "import time\n",
    "import mplfinance as mpf\n",
    "import os\n",
    "import matplotlib.ticker as  ticker\n",
    "import base64\n",
    "import openai\n",
    "from openai import OpenAI\n",
    "import pandas as pd\n",
    "import os\n",
    "import re\n",
    "import json\n",
    "import time\n",
    "import pandas as pd"
   ]
  },
  {
   "cell_type": "markdown",
   "id": "40bc208b-cbd0-408c-97a3-3257fd1d0f21",
   "metadata": {},
   "source": [
    "# Funções"
   ]
  },
  {
   "cell_type": "code",
   "execution_count": 8,
   "id": "2c893731-d048-4e5b-a607-74f83cd86bf4",
   "metadata": {},
   "outputs": [],
   "source": [
    "# Chave API",
    "apinumber=''\n",
    "client = OpenAI(api_key=apinumber)\n",
    "\n",
    "def encode_image_to_base64(image_path: str) -> str:\n",
    "    \"\"\"\n",
    "    Codifica um arquivo de imagem em uma string Base64.\n",
    "\n",
    "    Args:\n",
    "        image_path: O caminho para o arquivo de imagem.\n",
    "\n",
    "    Returns:\n",
    "        A string Base64 codificada.\n",
    "    \"\"\"\n",
    "    with open(image_path, \"rb\") as image_file:\n",
    "        return base64.b64encode(image_file.read()).decode('utf-8')\n",
    "\n",
    "# --- Função principal para descrever a imagem ---\n",
    "def analisar_grafico(image_path: str, prompt_comando: str) -> str | None:\n",
    "    \"\"\"\n",
    "    Obtém uma descrição ou análise de uma imagem local usando a API de Chat Multimodal da OpenAI.\n",
    "\n",
    "    Args:\n",
    "        image_path: O caminho para o arquivo de imagem.\n",
    "        prompt_comando: O comando ou pergunta a ser feita sobre a imagem.\n",
    "\n",
    "    Returns:\n",
    "        A descrição ou análise da imagem como uma string, ou None em caso de erro.\n",
    "    \"\"\"\n",
    "    # Inicializa o cliente OpenAI. A chave da API é lida automaticamente da variável de ambiente OPENAI_API_KEY.\n",
    "    # Se você precisar de um cliente específico para esta função, pode passá-lo como argumento\n",
    "    # ou inicializá-lo aqui, mas o ideal é que seja inicializado uma vez fora da função se for reusado.\n",
    "\n",
    "    try:\n",
    "        print(f\"Codificando imagem: {image_path}...\")\n",
    "        base64_image = encode_image_to_base64(image_path)\n",
    "        print(\"Imagem codificada com sucesso.\")\n",
    "\n",
    "        messages_list = [\n",
    "            {\n",
    "                \"role\": \"user\",\n",
    "                \"content\": [\n",
    "                    {\n",
    "                        \"type\": \"image_url\",\n",
    "                        \"image_url\": {\n",
    "                            \"url\": f\"data:image/jpeg;base64,{base64_image}\",\n",
    "                            \"detail\": \"auto\"  # 'auto' é um bom padrão, pode ser 'low' ou 'high' se necessário\n",
    "                        },\n",
    "                    },\n",
    "                    {\"type\": \"text\", \"text\": prompt_comando},\n",
    "                ],\n",
    "            }\n",
    "        ]\n",
    "\n",
    "        print(\"Enviando requisição para a API da OpenAI...\")\n",
    "        response = client.chat.completions.create(\n",
    "            model=\"o4-mini\",\n",
    "            messages=messages_list,\n",
    "            temperature=1\n",
    "        )\n",
    "        print(\"-\" * 20)\n",
    "        print(\"Resposta recebida da API.\")\n",
    "\n",
    "        description = response.choices[0].message.content\n",
    "        return description\n",
    "\n",
    "    except FileNotFoundError as e:\n",
    "        print(f\"Erro: {e}. Verifique o caminho do arquivo.\")\n",
    "        return None\n",
    "    except IOError as e: # Captura erros específicos de leitura de arquivo da função encode_image_to_base64\n",
    "        print(f\"Erro de I/O: {e}\")\n",
    "        return None\n",
    "    except APIError as e: # Captura erros da API OpenAI, como autenticação inválida ou problemas de requisição\n",
    "        print(f\"Erro da API OpenAI: {e}\")\n",
    "        return None\n",
    "    except Exception as e:\n",
    "        print(f\"Ocorreu um erro inesperado: {e}\")\n",
    "        return None"
   ]
  },
  {
   "cell_type": "markdown",
   "id": "f9974ebf-38ac-48c6-9ff1-4393aa40d5ac",
   "metadata": {},
   "source": [
    "# Aplicando execução de trades"
   ]
  },
  {
   "cell_type": "markdown",
   "id": "00f499c3-9356-4ad2-99b1-fea86977f90f",
   "metadata": {},
   "source": [
    "- Prompt superfcial"
   ]
  },
  {
   "cell_type": "code",
   "execution_count": 10,
   "id": "95a9b3bb-59bd-480b-a55a-0a615971340f",
   "metadata": {},
   "outputs": [],
   "source": [
    "prompt = '''\n",
    "# Contexto\n",
    "Você é um analista de investimentos CNPI-T, especializado em análise técnica e gráfica, com vasta experiência de mercado. \n",
    "Seu parecer deve ser técnico, objetivo, isento de vieses e focado em probabilidades baseadas em evidências gráficas.\n",
    "\n",
    "# Objetivo\n",
    "Analisar o gráfico na imagem e gerar uma recomendação de trade (comprar, vender ou aguardar), preenchendo todos os campos do JSON de saída.\n",
    "\n",
    "# Formato de saída (JSON)\n",
    "{\n",
    "  \"recomendacao\": \"comprar\" | \"vender\" | \"aguardar\",\n",
    "  \"preco_entrada\": \"0.00\",\n",
    "  \"alvo_lucro\": \"0.00\",\n",
    "  \"stop_loss\": \"0.00\",\n",
    "  \"justificativa_tecnica\": \"A recomendação se baseia em...\"\n",
    "}'''"
   ]
  },
  {
   "cell_type": "markdown",
   "id": "a64a90f4-44ec-421a-b4f5-2928f7831496",
   "metadata": {},
   "source": [
    "- Prompt detalhado"
   ]
  },
  {
   "cell_type": "code",
   "execution_count": 3,
   "id": "5bceb6bc-3760-47a5-992a-f19f87e4a1c0",
   "metadata": {},
   "outputs": [],
   "source": [
    "prompt = '''\n",
    "# Contexto\n",
    "Você é um analista de investimentos CNPI-T, especializado em análise técnica e gráfica, com vasta experiência de mercado. Seu parecer deve ser técnico, objetivo, isento de vieses e focado em probabilidades baseadas em evidências gráficas.\n",
    "\n",
    "# Objetivo\n",
    "Analisar o gráfico de velas (candlestick) e gerar uma recomendação de trade (comprar, vender ou aguardar), preenchendo todos os campos do JSON de saída.\n",
    "\n",
    "# CONTEXTO DA ANÁLISE\n",
    "- **Período Gráfico:** Diário (D1)\n",
    "- **Janela Temporal:** Últimos 6 meses\n",
    "- **Indicadores Técnicos Fornecidos:**\n",
    "  - Média Móvel Simples (MMS) de 20 períodos.\n",
    "  - Bandas de Bollinger (20 períodos, 2 desvios padrão).\n",
    "  - Índice de Força Relativa (IFR) de 14 períodos.\n",
    "  - MACD (12, 26, 9). *Nota: Utilizando a configuração padrão de mercado.*\n",
    "\n",
    "# METODOLOGIA DE ANÁLISE (Raciocínio Passo a Passo Obrigatório)\n",
    "Execute a análise seguindo rigorosamente esta sequência lógica antes de formular sua resposta final.\n",
    "\n",
    "**1. Análise da Estrutura de Preço (Price Action):**\n",
    "   - **Tendência:** Identifique a tendência principal (macro, nos 6 meses), a secundária (médio prazo de 3 meses) e a de curto prazo (micro, últimas semanas). Use topos e fundos ascendentes/descendentes para definir (Observar no gráfico topos e fundos ascendentes para tendência de alta, ou descendentes para tendência de baixa).\n",
    "   - **Níveis Chave:** Mapeie as zonas de Suporte e Resistência mais relevantes no gráfico diário (Verificar no gráfico regiões com alta concentração de topos ou fundos para marcar as zonas de suporte e resistência).\n",
    "\n",
    "**2. Análise de Indicadores Técnicos:**\n",
    "   - **Tendência e Momento:**\n",
    "     - **MMS 20:** O preço está trabalhando acima ou abaixo da média? Qual a inclinação da média? (Exemplo: O preço está acima da média, que apresenta forte inclinação ascendente, indicando uma forte tendência de alta.)\n",
    "     - **MACD:** Analise o histograma. Um histograma acima de zero (positivo) sinaliza momento de alta; abaixo de zero (negativo), sinaliza momento de baixa.\n",
    "   - **Volatilidade:**\n",
    "     - **Bandas de Bollinger:** Verifique se o preço está próximo da Banda de Bollinger superior ou inferior. A proximidade das bandas pode indicar que o preço está \"esticado\", oferecendo potenciais pontos de entrada em pullbacks. Por exemplo, se a intenção é comprar, a proximidade da banda inferior pode ser um bom ponto de entrada; já a proximidade da banda superior pode apresentar uma oportunidade de venda.\n",
    "   - **Força Relativa:**\n",
    "     - **IFR 14:** O indicador está em zona de sobrecompra (>70), sobrevenda (<30) ou em território neutro? Busque oportunidades de compra quando o IFR estiver em zona de sobrevenda (<30) e de venda quando estiver em zona de sobrecompra (>70).\n",
    "\n",
    "**3. Síntese e Formulação da Tese de Trade:**\n",
    "   - **Confluência de Sinais:** Combine as informações do Price Action e dos indicadores. Há uma confluência de sinais apontando para uma direção? (Ex: \"O ativo está em tendência macro e secundária de alta, mas em microtendência de baixa. O IFR está abaixo de 30, o MACD está acima de zero e o preço está entre as Bandas de Bollinger. Diante disso, a estratégia é entrar comprado no rompimento do candle anterior, seguindo a tendência principal.\").\n",
    "   - **Possíveis movimentações:** Avalie possíveis projeções de movimento aplicando a análise técnica na imagem (Ex: \"Se o preço romper o último topo, isso pode gerar urgência compradora e impulsionar o preço até a próxima zona de resistência, tornando-se uma boa oportunidade de compra, pois há potencial de um movimento expressivo a favor da tendência.\").\n",
    "    \n",
    "**4. Definição de Parâmetros e Gestão de Risco:**\n",
    "   - **Tipo de Ordem:** Decida se irá comprar, vender ou esperar com base na análise dos indicadores técnicos, levando em consideração a direção dos fractais do mercado, a confluência dos indicadores e a região em que o preço se encontra. (Ex: \"A tendência macro, secundária e micro é de baixa. O RSI está acima de 70, o preço não está próximo da banda inferior, o MACD está abaixo de zero e a média móvel está inclinada para baixo. Portanto, irei vender o ativo!\").\n",
    "   - **Preço de Entrada:** Defina o nível de preço exato para a entrada. (Ex: \"Se o preço romper a máxima do candle anterior, há grande potencial de subir até a região de resistência, então a entrada será no rompimento dessa máxima.\").\n",
    "   - **Stop Loss:** Defina o preço que invalida a tese do trade. (Ex: \"O ponto que invalida a tese do trade é o rompimento do último fundo, portanto, o stop será posicionado abaixo dele.\").\n",
    "   - **Alvo (Gain):** Defina o preço para realização de lucro. (Ex: \"O alvo será posicionado na Banda de Bollinger superior, pois há grande probabilidade de o preço atingi-la.\").\n",
    "   - **Relação Risco/Retorno:** Calcule a relação entre o potencial de lucro e o de perda. (Ex: \"A operação apresenta uma relação risco/retorno de 0.5 para 1, comparando o ganho potencial com a perda possível.\").\n",
    "\n",
    "**5. Decisão Final:**\n",
    "   - Com base na análise técnica, na estrutura de preço, no gerenciamento de risco, nos movimentos prováveis e nos pontos de negociação, pondere os fatores favoráveis e contrários ao trade. Após reanalisar e validar todas as informações, se a negociação for considerada válida, retorne o JSON preenchido com todos os parâmetros.\n",
    "\n",
    "# EXEMPLO COMPLETO DE ANÁLISE\n",
    "   - Iniciamos analisando a estrutura de preço: observamos que a tendência macro é de baixa, pois está formando topos e fundos descendentes; a tendência secundária também é de baixa e a microtendência é de alta. Agora, vamos identificar regiões de suporte e resistência, observando a concentração de topos e fundos em determinadas regiões que servirão de referência para o trade. Após essa análise inicial, vamos observar os indicadores um a um e interpretar seus sinais. Observando o gráfico, vemos que o preço está acima da média e com inclinação para cima, sinalizando uma compra. Analisando o MACD, temos que ele está abaixo de zero. Avaliando o RSI, vemos que ele está acima de 70 e, por fim, o preço está tocando a banda superior da Banda de Bollinger. Assim, temos três indicadores técnicos sinalizando venda e apenas um sinalizando compra. Cruzando essa informação com a direção predominante do mercado, damos preferência à venda do ativo. Agora, vamos definir os parâmetros da operação: o rompimento da mínima do candle anterior é um bom ponto de entrada, e iremos colocar o stop acima da última máxima. O alvo será a Banda de Bollinger inferior. Com isso, temos uma relação risco/retorno de 1.4 para 1 e uma maioria de indicadores sinalizando uma venda sólida. Portanto, vamos executar o trade!\n",
    "\n",
    "# FORMATO DE SAÍDA (JSON OBRIGATÓRIO)\n",
    "O resultado final DEVE ser um único bloco de código JSON, sem nenhum texto ou comentário adicional fora dele.\n",
    "\n",
    "{\n",
    "  \"recomendacao\": \"comprar\" | \"vender\" | \"aguardar\",\n",
    "  \"preco_entrada\": \"0.00\",\n",
    "  \"alvo_lucro\": \"0.00\",\n",
    "  \"stop_loss\": \"0.00\",\n",
    "  \"justificativa_tecnica\": \"A recomendação se baseia na confluência dos seguintes fatores: [descrever de forma concisa os pontos da análise, como a tendência, o suporte/resistência testado, os sinais dos indicadores IFR, MACD e Bandas de Bollinger que suportam a decisão].\"\n",
    "}'''"
   ]
  },
  {
   "cell_type": "code",
   "execution_count": 11,
   "id": "ca20aa70-5c4d-4e28-8c0f-f4c0f362c874",
   "metadata": {},
   "outputs": [
    {
     "data": {
      "text/html": [
       "<div>\n",
       "<style scoped>\n",
       "    .dataframe tbody tr th:only-of-type {\n",
       "        vertical-align: middle;\n",
       "    }\n",
       "\n",
       "    .dataframe tbody tr th {\n",
       "        vertical-align: top;\n",
       "    }\n",
       "\n",
       "    .dataframe thead th {\n",
       "        text-align: right;\n",
       "    }\n",
       "</style>\n",
       "<table border=\"1\" class=\"dataframe\">\n",
       "  <thead>\n",
       "    <tr style=\"text-align: right;\">\n",
       "      <th></th>\n",
       "      <th>recomendacao</th>\n",
       "      <th>preco_entrada</th>\n",
       "      <th>alvo_lucro</th>\n",
       "      <th>stop_loss</th>\n",
       "      <th>justificativa_tecnica</th>\n",
       "      <th>data</th>\n",
       "      <th>count</th>\n",
       "    </tr>\n",
       "  </thead>\n",
       "  <tbody>\n",
       "  </tbody>\n",
       "</table>\n",
       "</div>"
      ],
      "text/plain": [
       "Empty DataFrame\n",
       "Columns: [recomendacao, preco_entrada, alvo_lucro, stop_loss, justificativa_tecnica, data, count]\n",
       "Index: []"
      ]
     },
     "execution_count": 11,
     "metadata": {},
     "output_type": "execute_result"
    }
   ],
   "source": [
    "data = pd.DataFrame(columns=['recomendacao','preco_entrada','alvo_lucro','stop_loss','justificativa_tecnica','data','count'])\n",
    "data"
   ]
  },
  {
   "cell_type": "code",
   "execution_count": null,
   "id": "bf39bbef-3ebc-4364-8c11-7cf366fa382f",
   "metadata": {
    "scrolled": true
   },
   "outputs": [
    {
     "name": "stdout",
     "output_type": "stream",
     "text": [
      "Codificando imagem: C:\\Users\\netinhoklz\\Projetos pessoais\\Artigo Mestrado\\ChatGPT como Analista CNPI\\graficos_TSLA_semestral_todas_os_domingos\\2020_10_11.jpg...\n",
      "Imagem codificada com sucesso.\n",
      "Enviando requisição para a API da OpenAI...\n",
      "--------------------\n",
      "Resposta recebida da API.\n",
      "{'recomendacao': 'aguardar', 'preco_entrada': '150.00', 'alvo_lucro': '165.00', 'stop_loss': '140.00', 'justificativa_tecnica': 'O preço vem consolidando próximo à média móvel de 20 períodos (atualmente em torno de 144–146), com as Bandas de Bollinger achatadas indicando baixa volatilidade. O RSI está neutro em torno de 50, sem viés claro de sobrecompra ou sobrevenda. O MACD se encontra próximo da linha zero, com o histograma achatado após recente cruzamento levemente negativo, sugerindo ausência de força direcional definida. Recomenda-se aguardar um fechamento acima de 150 para confirmação de rompimento de resistência e ativação de sinal de compra, limitando o risco com stop em 140 e projetando alvo em 165, zona de resistência anterior.', 'data': '2020_10_11', 'count': 0}\n",
      "Codificando imagem: C:\\Users\\netinhoklz\\Projetos pessoais\\Artigo Mestrado\\ChatGPT como Analista CNPI\\graficos_TSLA_semestral_todas_os_domingos\\2020_10_18.jpg...\n",
      "Imagem codificada com sucesso.\n",
      "Enviando requisição para a API da OpenAI...\n",
      "--------------------\n",
      "Resposta recebida da API.\n",
      "{'recomendacao': 'aguardar', 'preco_entrada': '156.00', 'alvo_lucro': '176.00', 'stop_loss': '148.00', 'justificativa_tecnica': 'O ativo está em consolidação lateral após forte alta, com as Bandas de Bollinger em compressão e preço oscilando próximo à média móvel. O RSI encontra-se em zona neutra e o MACD ainda não confirmou cruzamento de alta consistente. Recomenda-se aguardar o rompimento da resistência em R$155,00 com bom volume para entrar comprador, utilizando o topo anterior (R$176,00) como alvo de lucro e o suporte da congestão em R$148,00 (próximo à banda inferior) como stop loss.', 'data': '2020_10_18', 'count': 0}\n",
      "Codificando imagem: C:\\Users\\netinhoklz\\Projetos pessoais\\Artigo Mestrado\\ChatGPT como Analista CNPI\\graficos_TSLA_semestral_todas_os_domingos\\2020_10_25.jpg...\n",
      "Imagem codificada com sucesso.\n",
      "Enviando requisição para a API da OpenAI...\n",
      "--------------------\n",
      "Resposta recebida da API.\n",
      "{'recomendacao': 'aguardar', 'preco_entrada': '146.00', 'alvo_lucro': '160.00', 'stop_loss': '140.00', 'justificativa_tecnica': 'O preço está preso em consolidação próxima à média móvel de 20 períodos, com as bandas de Bollinger se estreitando e sinalizando compressão. O RSI encontra-se neutro, sem condição de sobre-compra ou sobrevenda, e o MACD mostra linha de sinal nivelada, sem viés direcional claro. Aguardamos um rompimento de resistência em 146,00 para confirmar retomada de tendência de alta. Stop em 140,00 protege de um falso rompimento. Alvo em 160,00 apoia-se na próxima zona de resistência histórica.', 'data': '2020_10_25', 'count': 0}\n",
      "Codificando imagem: C:\\Users\\netinhoklz\\Projetos pessoais\\Artigo Mestrado\\ChatGPT como Analista CNPI\\graficos_TSLA_semestral_todas_os_domingos\\2020_10_4.jpg...\n",
      "Imagem codificada com sucesso.\n",
      "Enviando requisição para a API da OpenAI...\n",
      "--------------------\n",
      "Resposta recebida da API.\n",
      "{'recomendacao': 'comprar', 'preco_entrada': '145.00', 'alvo_lucro': '152.00', 'stop_loss': '140.00', 'justificativa_tecnica': 'O preço retornou ao apoio na média móvel de 20 períodos (≈144), formando um candle de reação acima desta referência. O RSI encontra-se em região neutra (entre 40 e 50), sem sobrecompra, o que deixa espaço para nova perna de alta. O MACD mostra o histograma amenizando a pressão vendida e as linhas se aproximando para cruzamento de alta. As Bandas de Bollinger começam a expandir após contração, sinalizando potencial volatilidade direcional para cima. Esses elementos combinados reforçam viés de continuidade de alta até a resistência em torno de 152, com stop abaixo do suporte imediato em 140.', 'data': '2020_10_4', 'count': 0}\n",
      "Codificando imagem: C:\\Users\\netinhoklz\\Projetos pessoais\\Artigo Mestrado\\ChatGPT como Analista CNPI\\graficos_TSLA_semestral_todas_os_domingos\\2020_11_1.jpg...\n",
      "Imagem codificada com sucesso.\n",
      "Enviando requisição para a API da OpenAI...\n"
     ]
    }
   ],
   "source": [
    "pastas = r'C:\\Users\\netinhoklz\\Projetos pessoais\\Artigo Mestrado\\ChatGPT como Analista CNPI\\graficos_TSLA_semestral_todas_os_domingos'\n",
    "lista_imagens = os.listdir(r'C:\\Users\\netinhoklz\\Projetos pessoais\\Artigo Mestrado\\ChatGPT como Analista CNPI\\graficos_TSLA_semestral_todas_os_domingos')\n",
    "for caminho_imagem in lista_imagens:\n",
    "    for count in range(1):\n",
    "        try:\n",
    "            caminho_imagem_pasta = pastas + '\\\\' + caminho_imagem\n",
    "            analise = analisar_grafico(caminho_imagem_pasta,prompt)\n",
    "            match = re.search(r'(\\{.*\\})', analise, re.DOTALL)\n",
    "            resultado = match.group(1)\n",
    "            dicionario_resultado = json.loads(resultado)\n",
    "            data_imagem = caminho_imagem.replace('.jpg','')\n",
    "            # data_imagem = data_imagem.replace('_','-')\n",
    "            dicionario_resultado['data'] = data_imagem\n",
    "            dicionario_resultado['count'] = count\n",
    "            print(dicionario_resultado)\n",
    "            data.loc[len(data)] = dicionario_resultado\n",
    "        except:\n",
    "            continue"
   ]
  },
  {
   "cell_type": "code",
   "execution_count": null,
   "id": "068bf6f3-81f2-417b-b4dc-baf784ca7408",
   "metadata": {},
   "outputs": [],
   "source": [
    "data"
   ]
  },
  {
   "cell_type": "code",
   "execution_count": null,
   "id": "bda26cd5-8ec1-4f93-b6ee-137ba9b3544a",
   "metadata": {},
   "outputs": [],
   "source": [
    "data.to_csv('TSLA_backteste_treidando_apenas_nas_segundas_2020_01_01_ate_2025_06_15_meses_o4_mini_backteste3_PROMPT_RUIM.csv',sep = ';')"
   ]
  },
  {
   "cell_type": "code",
   "execution_count": null,
   "id": "f5bef9fd-eae0-4857-a98a-05410b531562",
   "metadata": {},
   "outputs": [],
   "source": []
  },
  {
   "cell_type": "code",
   "execution_count": null,
   "id": "46287e2d-ae54-4213-9a41-0120a2b62c79",
   "metadata": {},
   "outputs": [],
   "source": []
  },
  {
   "cell_type": "code",
   "execution_count": null,
   "id": "5fbeb7cf-f028-40f5-823d-08de308f84fe",
   "metadata": {},
   "outputs": [],
   "source": []
  },
  {
   "cell_type": "code",
   "execution_count": null,
   "id": "f6478aef-fc93-4752-9ce8-780304d1d475",
   "metadata": {},
   "outputs": [],
   "source": []
  },
  {
   "cell_type": "code",
   "execution_count": null,
   "id": "5229a662-4cd3-4ba4-b253-ee6edbffdfdc",
   "metadata": {},
   "outputs": [],
   "source": []
  },
  {
   "cell_type": "code",
   "execution_count": null,
   "id": "e5f71b3a-a927-4698-9ea9-6cf9b148b995",
   "metadata": {},
   "outputs": [],
   "source": []
  },
  {
   "cell_type": "code",
   "execution_count": null,
   "id": "bf745b91-f581-403c-95c5-f06461535fc2",
   "metadata": {},
   "outputs": [],
   "source": []
  },
  {
   "cell_type": "code",
   "execution_count": null,
   "id": "7bcc6952-ddec-4198-ad1e-1aa56f485415",
   "metadata": {},
   "outputs": [],
   "source": []
  },
  {
   "cell_type": "code",
   "execution_count": null,
   "id": "0274eaad-47a4-40b7-ad99-bb221d65fb89",
   "metadata": {},
   "outputs": [],
   "source": []
  },
  {
   "cell_type": "code",
   "execution_count": null,
   "id": "b89d181a-73e8-4b5c-986b-fc3bf85a91eb",
   "metadata": {},
   "outputs": [],
   "source": []
  },
  {
   "cell_type": "code",
   "execution_count": null,
   "id": "724d3d31-9ab1-4549-8ac2-f6db7ed9761b",
   "metadata": {},
   "outputs": [],
   "source": []
  },
  {
   "cell_type": "code",
   "execution_count": null,
   "id": "fd5b8746-ee4b-49bf-a2ee-e6b722117575",
   "metadata": {},
   "outputs": [],
   "source": []
  },
  {
   "cell_type": "code",
   "execution_count": null,
   "id": "be348260-6289-486c-b14c-a957474eb995",
   "metadata": {},
   "outputs": [],
   "source": []
  },
  {
   "cell_type": "code",
   "execution_count": null,
   "id": "f23d6549-dee7-4bcb-9206-bd3fa43931bb",
   "metadata": {},
   "outputs": [],
   "source": []
  },
  {
   "cell_type": "code",
   "execution_count": null,
   "id": "4df0b4a6-1564-4646-96dd-63f67991158d",
   "metadata": {},
   "outputs": [],
   "source": []
  },
  {
   "cell_type": "code",
   "execution_count": null,
   "id": "8896da13-429c-447c-8e88-8cd17ca34136",
   "metadata": {},
   "outputs": [],
   "source": []
  },
  {
   "cell_type": "code",
   "execution_count": null,
   "id": "62b2cfe9-6ea0-4af3-a5a5-8bf8efd8c31f",
   "metadata": {},
   "outputs": [],
   "source": []
  }
 ],
 "metadata": {
  "kernelspec": {
   "display_name": "Python 3 (ipykernel)",
   "language": "python",
   "name": "python3"
  },
  "language_info": {
   "codemirror_mode": {
    "name": "ipython",
    "version": 3
   },
   "file_extension": ".py",
   "mimetype": "text/x-python",
   "name": "python",
   "nbconvert_exporter": "python",
   "pygments_lexer": "ipython3",
   "version": "3.11.13"
  }
 },
 "nbformat": 4,
 "nbformat_minor": 5
}
